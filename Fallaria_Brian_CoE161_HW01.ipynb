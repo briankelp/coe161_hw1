{
  "cells": [
    {
      "cell_type": "markdown",
      "metadata": {
        "id": "QobJ6iVHhYwC"
      },
      "source": [
        "# CoE161 Homework 1: Information Metrics\n"
      ]
    },
    {
      "cell_type": "markdown",
      "metadata": {
        "id": "XTGLSJSOhjl3"
      },
      "source": [
        "## Part 1: Calculate the entropy of a file\n",
        "You are tasked to calculate the entropy of a file at the byte level. This means that you can treat the file as a random variable with $2^8=256$ possible outcomes."
      ]
    },
    {
      "cell_type": "code",
      "execution_count": 2,
      "metadata": {
        "colab": {
          "base_uri": "https://localhost:8080/"
        },
        "id": "P0NfDczVNuUZ",
        "outputId": "5764fbc9-bdad-4fd9-db5c-56a789a9a55e"
      },
      "outputs": [
        {
          "name": "stdout",
          "output_type": "stream",
          "text": [
            "  adding: content/local_bash (deflated 52%)\n",
            "rm: cannot remove '/content/local_bash_encrypted': No such file or directory\n",
            "gpg: directory '/root/.gnupg' created\n",
            "gpg: keybox '/root/.gnupg/pubring.kbx' created\n"
          ]
        }
      ],
      "source": [
        "# @title Make a local copy the 'bash' executable\n",
        "\n",
        "!cp /bin/bash /content/local_bash\n",
        "\n",
        "# Compress the file\n",
        "!zip -r local_bash.zip /content/local_bash\n",
        "\n",
        "# Encrypt the file\n",
        "!rm /content/local_bash_encrypted\n",
        "!gpg --batch --output /content/local_bash_encrypted --passphrase 'somepass123' -c /content/local_bash\n"
      ]
    },
    {
      "cell_type": "markdown",
      "metadata": {
        "id": "5maAAtVIcJtt"
      },
      "source": [
        "# Practice:\n",
        "Fill in the simple coding steps below."
      ]
    },
    {
      "cell_type": "code",
      "execution_count": 3,
      "metadata": {
        "id": "FhMMF-kqmkle"
      },
      "outputs": [],
      "source": [
        "# @title Read 'local_bash' as a binary file and store it as a string of hexadecimal characters\n",
        "with open('/content/local_bash', 'rb') as f:\n",
        "    data = f.read().hex()\n"
      ]
    },
    {
      "cell_type": "code",
      "execution_count": 4,
      "metadata": {
        "colab": {
          "base_uri": "https://localhost:8080/"
        },
        "id": "lqjQcg88nMBf",
        "outputId": "0bc40713-f9f4-4491-a64d-a6ecac07412a"
      },
      "outputs": [
        {
          "name": "stdout",
          "output_type": "stream",
          "text": [
            "1396520\n"
          ]
        }
      ],
      "source": [
        "# @title Split up the hex string into a list of bytes (2 hex characters)\n",
        "hex_pairs =  []\n",
        "for i in range(0, len(data), 2):\n",
        "  hex_pairs.append(data[i:i+2])\n",
        "print(len(hex_pairs))\n",
        "\n",
        "# Additional: Calculate the number of bytes in the file\n",
        "# Checkpoint: Length of local_bash is 1396520\n"
      ]
    },
    {
      "cell_type": "code",
      "execution_count": 5,
      "metadata": {
        "colab": {
          "base_uri": "https://localhost:8080/"
        },
        "id": "-p2xDuFMpleM",
        "outputId": "2e6aa5e3-518f-415a-cdff-cb16b1096c0f"
      },
      "outputs": [
        {
          "name": "stdout",
          "output_type": "stream",
          "text": [
            "Counter({'00': 308560, 'ff': 60458, '48': 54046, '89': 34178, '0f': 33229, '20': 23132, '8b': 22635, '01': 21615, '41': 19880, 'e8': 19750, '24': 19473, '0e': 19126, '8d': 18721, '85': 17606, '74': 17023, '44': 16842, '4c': 16468, '08': 16272, '10': 13725, '05': 13358, 'c0': 13347, '83': 13346, '84': 12713, '65': 10879, '1f': 9717, '02': 9475, '31': 8906, 'e9': 8904, '04': 8328, '49': 8271, '66': 7863, 'c7': 7688, '69': 7614, '75': 7602, '18': 7577, '73': 7480, '45': 7437, '61': 7353, '42': 7306, '72': 7213, '6f': 6989, '6e': 6976, '63': 6864, '28': 6507, '6c': 6223, '0a': 6173, '5f': 6007, 'fa': 5956, '03': 5809, 'f6': 5669, '64': 5557, '80': 5537, 'fe': 5493, '30': 5225, '40': 4887, '12': 4843, 'fd': 4813, 'c3': 4738, '07': 4668, '38': 4658, '06': 4631, 'f8': 4542, 'f3': 4525, '70': 4417, '0b': 4410, '68': 4353, '15': 4328, '14': 4318, '0c': 4303, '54': 4249, '5d': 4146, '3d': 4073, '4d': 3972, 'ef': 3877, 'c4': 3847, '11': 3711, '0d': 3587, 'fb': 3524, '5c': 3520, '6d': 3514, 'fc': 3460, 'f7': 3418, 'eb': 3379, '09': 3364, '55': 3240, '1e': 3217, '25': 3172, '90': 3125, 'c6': 3112, '39': 3085, '2e': 3008, '7c': 2976, '2d': 2958, 'f9': 2950, '5b': 2846, 'f2': 2727, '35': 2716, 'be': 2703, '78': 2684, 'd2': 2674, 'c5': 2666, 'b6': 2611, 'e0': 2569, '53': 2540, '50': 2523, 'ed': 2487, 'f5': 2441, '46': 2393, '3c': 2371, 'bf': 2340, '7f': 2314, '8c': 2278, 'f4': 2244, '43': 2236, 'ec': 2232, '67': 2214, '62': 2198, 'ee': 2197, 'b8': 2167, 'e7': 2161, '86': 2121, '88': 2100, '76': 2093, '29': 2073, 'ba': 2064, 'e4': 2023, 'f0': 1998, '47': 1971, 'c2': 1957, '60': 1932, 'c1': 1922, 'd0': 1919, '79': 1909, 'db': 1881, '7d': 1849, 'c9': 1838, '1d': 1796, '8e': 1777, '2c': 1773, '1c': 1720, 'c8': 1685, '34': 1670, '58': 1653, '3b': 1650, '77': 1637, '81': 1594, 'e6': 1556, '57': 1526, '2b': 1523, 'd8': 1514, '56': 1488, '98': 1482, '5e': 1481, '6b': 1449, 'f1': 1405, '94': 1389, 'a8': 1381, '8f': 1362, '7e': 1331, '1b': 1319, 'e2': 1309, '3a': 1297, '4e': 1255, 'ea': 1244, 'df': 1225, 'a0': 1222, '4f': 1164, '27': 1134, 'b0': 1131, '3f': 1131, 'bc': 1113, '4a': 1098, '13': 1082, '2f': 1074, '52': 1054, '17': 1042, '4b': 1040, '16': 1015, 'ca': 990, '33': 985, '3e': 980, '7b': 980, '9c': 975, 'e1': 967, 'e5': 950, '95': 942, '71': 927, 'cc': 915, '22': 904, '1a': 902, 'd3': 898, 'b9': 896, '87': 895, 'bd': 887, 'de': 881, '21': 876, 'dc': 872, '23': 871, 'dd': 870, 'd4': 866, 'e3': 855, '2a': 855, 'd1': 851, 'cf': 844, 'a4': 843, '32': 840, '19': 840, '51': 829, 'b4': 824, 'ce': 818, 'd5': 809, '7a': 796, 'cd': 794, '59': 790, 'd7': 790, 'ac': 787, '26': 778, 'bb': 774, '36': 763, 'd6': 761, '6a': 747, 'da': 742, '37': 739, 'd9': 732, '82': 711, '9d': 711, 'cb': 705, '5a': 692, '97': 684, 'a9': 673, 'b1': 638, '91': 634, '9b': 628, 'a2': 625, 'b7': 616, 'a1': 608, '9e': 608, 'a3': 607, '96': 599, '9f': 596, '93': 592, '8a': 589, 'aa': 588, 'b5': 586, 'a7': 577, '99': 569, 'af': 548, 'b2': 543, 'ab': 541, '92': 535, 'a5': 532, 'a6': 524, 'ad': 524, 'ae': 519, '9a': 516, 'b3': 480})\n"
          ]
        }
      ],
      "source": [
        "# @title Calculate the number of occurences of each byte and store as a Counter (dictionary) object\n",
        "# See https://www.digitalocean.com/community/tutorials/python-counter-python-collections-counter\n",
        "\n",
        "from collections import Counter\n",
        "counter = Counter(hex_pairs)\n",
        "print(counter)\n",
        "\n"
      ]
    },
    {
      "cell_type": "code",
      "execution_count": 6,
      "metadata": {
        "colab": {
          "base_uri": "https://localhost:8080/"
        },
        "id": "Tm_5mVlzrKdJ",
        "outputId": "147d178f-125c-4c10-85d3-c6ddcea5fad6"
      },
      "outputs": [
        {
          "name": "stdout",
          "output_type": "stream",
          "text": [
            "[0.001656975911551571, 0.005325380230859565, 0.011792169106063644, 0.0017135450978145676, 0.006784722023315097, 0.015477759000945206, 0.2209492166241801, 0.004159625354452496, 0.0007017443359207173, 0.0014306991664995846, 0.0021539254718872624, 0.003499412826167903, 0.0009888866611290922, 0.00141136539397932, 0.0030991321284335347, 0.003335433792570103, 0.002568527482599605, 0.002303583192507089, 0.001286053905422049, 0.0033161000200498383, 0.005963394724028299, 0.0010841233924326183, 0.0116518202388795, 0.005425629421705382, 0.0012316329161057486, 0.001503737862687251, 0.0006924354824850343, 0.009828001031134534, 0.009565204937988715, 0.00251625469023, 0.0027761865207802253, 0.0018395726520207374, 0.000449689227508378, 0.0022377051528084096, 0.000421762667201329, 0.003091971471944548, 0.00036948987483172456, 0.009557328215850829, 0.0005542348122475868, 0.004659439177383783, 0.0010375791252542033, 0.0005900380946925214, 0.0027547045513132643, 0.003741443015495661, 0.003117033769656002, 0.012059977658751754, 0.0018188067482026752, 0.0006802623664537565, 0.012189585541202417, 0.003979176810930026, 0.0018066336321713975, 0.0019219202016440868, 0.0034679059376163607, 0.0012695843954973792, 0.0005936184229370149, 0.0007547331939392203, 0.003162861971185518, 0.0019448343024088448, 0.0007690545069171941, 0.0044560765330965545, 0.005452123850714634, 0.001573912296279323, 0.0005463580901097012, 0.001195829633660814, 0.002118122189442328, 0.0049952739667172685, 0.005443531062927849, 0.005356171053762209, 0.005004582820152951, 0.0006014951450749005, 0.016564030590324522, 0.0008986623893678572, 0.002320052702431759, 0.003964855497952053, 0.000569988256523358, 0.0014779594993268982, 0.0005091226763669694, 0.0004475410305616819, 0.0005241600549938418, 0.0009752814138000172, 0.006958009910348581, 0.0005635436656832698, 0.001272448658092974, 0.0006244092458396586, 0.0018696474092744822, 0.0006745338412625669, 0.004059376163606679, 0.0034464239681493997, 0.001383438833672271, 0.002419585827628677, 0.013695471600836364, 0.0024088448428951966, 0.0030812304872110674, 0.0006236931801907599, 0.0006272735084352533, 0.0007862400824907627, 0.014235385100105977, 0.023794145447254604, 0.005231575630853837, 0.00910334259444906, 0.0016311975481912181, 0.0011414086443445135, 0.005922578982041074, 0.0028442127574256006, 0.0006473233466044167, 0.005164981525506258, 0.00442027325065162, 0.0007747830321083837, 0.0011141981496863632, 0.0003752184000229141, 0.0006036433420215965, 0.01620814596282187, 0.0008750322229542004, 0.0006637928565290866, 0.0004539856214017701, 0.038700484060378654, 0.0009444905908973734, 0.0010905679832727065, 0.0026573196230630426, 0.0014013404748947384, 0.0031578495116432273, 0.013943946381004211, 0.0006981640076762237, 0.0007268066336321715, 0.005630424197290407, 0.0016011227909374732, 0.0006014951450749005, 0.001374129980236588, 0.002271360238306648, 0.0011815083206828403, 0.0008098702489044195, 0.0011836565176295362, 0.003042562942170538, 0.0007089049924097041, 0.003392719044481998, 0.0004289233236903159, 0.0009946151863202818, 0.014142296565749148, 0.00043536791453040413, 0.00106120929166786, 0.00955661215020193, 0.0013762781771832842, 0.006377280669091742, 0.00038882364735198923, 0.0013161286626757942, 0.0005656918626299659, 0.0015187752413141236, 0.0003830951221607997, 0.00039240397559648266, 0.0006093718672127861, 0.0004210466015524303, 0.0004239108641480251, 0.0019147595451551, 0.0006552000687423023, 0.0014844040901669864, 0.0006408787557643285, 0.0004819121817088191, 0.0013469194855784377, 0.0009287371466216022, 0.0005570990748431816, 0.0029165353879643686, 0.0016068513161286626, 0.0013669693237476012, 0.003252370177297855, 0.002523415346718987, 0.0006122361298083808, 0.0016977916535387964, 0.02447369174805946, 0.0007053246641652107, 0.0022090625268524617, 0.0015517142611634635, 0.0012065706183942944, 0.004915074614040615, 0.0005685561252255607, 0.0008098702489044195, 0.005265230716352075, 0.004301406352934437, 0.0006043594076704952, 0.0006458912153066193, 0.012607051814510354, 0.0033425944490590898, 0.0019090310199639104, 0.0004955174290378942, 0.0010655056855612523, 0.00037163807177842065, 0.00038094692521410364, 0.0005449259588119039, 0.000579297109959041, 0.0006122361298083808, 0.002968808180333973, 0.0005091226763669694, 0.0005313207114828288, 0.0005291725145361326, 0.007790078194368859, 0.0006351502305731389, 0.00041961447025463293, 0.003240197061266577, 0.001448600807722052, 0.0004568498839973649, 0.002477587145189471, 0.0008120184458511156, 0.0008907856672299716, 0.0010604932260189614, 0.0004131698794145447, 0.0007461404061524361, 0.0022283962993727264, 0.0005349010397273222, 0.006375848537793945, 0.0014987254031449604, 0.0015982585283418785, 0.0015731962306304243, 0.001006072236702661, 0.0017479162489617047, 0.04329189700111706, 0.0007447082748546387, 0.0008335004153180764, 0.0025205510841233925, 0.001585369346661702, 0.0011721994672471573, 0.0007017443359207173, 0.0021310113711225046, 0.0004897889038467046, 0.0004074413542233552, 0.00043536791453040413, 0.00038739151605419184, 0.0004410964397215937, 0.0006415948214132271, 0.0019355254489731618, 0.005505112708733137, 0.0005048262824735772, 0.0006430269527110245, 0.0006201128519462664, 0.0005656918626299659, 0.0006308538366797468, 0.0008771804199008965, 0.0015474178672700712, 0.0017808552688110446, 0.0019527110245467305, 0.002447512387935726, 0.0021123936642511386, 0.00393334860940051, 0.0010927161802194024, 0.0020379228367656747, 0.0009530833786841578, 0.00043465184888150544, 0.0007969810672242431, 0.001675593618422937, 0.0005857417007991293, 0.0006229771145418612, 0.0009373299344083866, 0.004264887004840604, 0.0013240053848136797, 0.00042677512674361984, 0.013405465013032395, 0.0003437115114713717, 0.0003752184000229141]\n"
          ]
        }
      ],
      "source": [
        "# @title Calculate the probabilities of each byte\n",
        "probabilities = []\n",
        "for _ , occur in counter.items():\n",
        "  probabilities.append(occur/len(hex_pairs))\n",
        "print(probabilities)"
      ]
    },
    {
      "cell_type": "code",
      "execution_count": 7,
      "metadata": {
        "colab": {
          "base_uri": "https://localhost:8080/"
        },
        "id": "20QdpDz4r_GD",
        "outputId": "aaf1339e-e108-45e9-979b-e1c3ef54457d"
      },
      "outputs": [
        {
          "name": "stdout",
          "output_type": "stream",
          "text": [
            "6.1923858838643095\n"
          ]
        }
      ],
      "source": [
        "# @title Calculate the entropy of the file\n",
        "import numpy as np\n",
        "entropy = -sum(p * np.log2(p) for p in probabilities)\n",
        "print(f\"{entropy}\")"
      ]
    },
    {
      "cell_type": "markdown",
      "metadata": {
        "id": "4QQ1emPRdSDw"
      },
      "source": [
        "#Create a function that determines the byte-wise entropy of a file."
      ]
    },
    {
      "cell_type": "code",
      "execution_count": 11,
      "metadata": {
        "colab": {
          "base_uri": "https://localhost:8080/"
        },
        "id": "RbryFJvndapI",
        "outputId": "0d2b45bb-9a7a-485e-fa81-33cc709748c5"
      },
      "outputs": [
        {
          "data": {
            "text/plain": [
              "[6.1923858838643095, 7.993482276748834, 7.9997421376888305]"
            ]
          },
          "execution_count": 11,
          "metadata": {},
          "output_type": "execute_result"
        }
      ],
      "source": [
        "# @title Fuction to calculate the entropy of a file\n",
        "\n",
        "def calculate_entropy(file_path):\n",
        "\n",
        "  from collections import Counter\n",
        "  import numpy as np\n",
        "  with open(file_path, 'rb') as f:\n",
        "    data = f.read().hex()\n",
        "  hex_pairs =  []\n",
        "  for i in range(0, len(data), 2):\n",
        "    hex_pairs.append(data[i:i+2])\n",
        "  counter = Counter(hex_pairs)\n",
        "  probabilities = []\n",
        "  for _ , occur in counter.items():\n",
        "    probabilities.append(occur/len(hex_pairs))\n",
        "  f_entropy = -sum(p * np.log2(p) for p in probabilities)\n",
        "  return f_entropy\n",
        "\n",
        "filesIn = ['/content/local_bash', '/content/local_bash.zip', '/content/local_bash_encrypted']\n",
        "ent = [calculate_entropy(f) for f in filesIn]\n",
        "ent"
      ]
    },
    {
      "cell_type": "markdown",
      "metadata": {
        "id": "rU2YlHDfgAgh"
      },
      "source": [
        "# Answer the following questions:"
      ]
    },
    {
      "cell_type": "markdown",
      "metadata": {
        "id": "p7C7R8SmghJW"
      },
      "source": [
        "1. What is the maximum bit-wise entropy of a file? When will this occur?\n",
        "\n",
        "Answer here:\n",
        "The maximum bit-wise entropy would be 8 bits. This will occur when all 256 possible byte values: [00, 01, 02, ..., fd, fe, ff] appear (see [5] counter) at equal probability (1/256)."
      ]
    },
    {
      "cell_type": "markdown",
      "metadata": {
        "id": "qdPsX-jQgs1M"
      },
      "source": [
        "2. How can you interpret the entropy of the compressed file? Why would this result in smaller file sizes?\n",
        "\n",
        "Answer here: Compressed files usually remove redundancy, making the entropy higher than an uncompressed file. This results in a smaller file size due to using fewer bits on average. For more common occuring byte-pair, they are assigned or represented using fewer bits, while the rare occuring are represented with more bits. This makes the number of symbols used per bit, smaller, hence smaller file size."
      ]
    },
    {
      "cell_type": "markdown",
      "metadata": {
        "id": "d6Cki_7CgGks"
      },
      "source": [
        "3. How can you interpret the entropy of the encrypted file? Why would this be an effective way of hiding information?\n",
        "\n",
        "Answer here: Using encryption techniques, the entropy would be higher due to it appearing random as to not get easily dechipered. This means it would be harder to reveal the information from the original file (before encryption)"
      ]
    },
    {
      "cell_type": "markdown",
      "metadata": {
        "id": "URenshU0iL6B"
      },
      "source": [
        "4. Entropy is sometimes used to check for malicious files. Can you explain why?\n",
        "\n",
        "Answer here: High entropy is one of the tell-tale signs that a file might be malicious becuase an attacker might attempt to hide the malware. However having a high entropy does not necessarily make the file malicious, it might also just be a normal encrypted or compressed file."
      ]
    }
  ],
  "metadata": {
    "colab": {
      "provenance": []
    },
    "kernelspec": {
      "display_name": "Python 3",
      "name": "python3"
    },
    "language_info": {
      "name": "python"
    }
  },
  "nbformat": 4,
  "nbformat_minor": 0
}
